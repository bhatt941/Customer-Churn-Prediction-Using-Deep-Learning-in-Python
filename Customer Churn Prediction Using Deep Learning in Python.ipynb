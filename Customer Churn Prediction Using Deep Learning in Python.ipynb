{
 "cells": [
  {
   "cell_type": "code",
   "execution_count": 1,
   "id": "d191f42c-f260-411a-acb5-239e39af2297",
   "metadata": {},
   "outputs": [
    {
     "data": {
      "text/html": [
       "<div>\n",
       "<style scoped>\n",
       "    .dataframe tbody tr th:only-of-type {\n",
       "        vertical-align: middle;\n",
       "    }\n",
       "\n",
       "    .dataframe tbody tr th {\n",
       "        vertical-align: top;\n",
       "    }\n",
       "\n",
       "    .dataframe thead th {\n",
       "        text-align: right;\n",
       "    }\n",
       "</style>\n",
       "<table border=\"1\" class=\"dataframe\">\n",
       "  <thead>\n",
       "    <tr style=\"text-align: right;\">\n",
       "      <th></th>\n",
       "      <th>RowNumber</th>\n",
       "      <th>CustomerId</th>\n",
       "      <th>Surname</th>\n",
       "      <th>CreditScore</th>\n",
       "      <th>Geography</th>\n",
       "      <th>Gender</th>\n",
       "      <th>Age</th>\n",
       "      <th>Tenure</th>\n",
       "      <th>Balance</th>\n",
       "      <th>NumOfProducts</th>\n",
       "      <th>HasCrCard</th>\n",
       "      <th>IsActiveMember</th>\n",
       "      <th>EstimatedSalary</th>\n",
       "      <th>Exited</th>\n",
       "    </tr>\n",
       "  </thead>\n",
       "  <tbody>\n",
       "    <tr>\n",
       "      <th>0</th>\n",
       "      <td>1</td>\n",
       "      <td>15634602</td>\n",
       "      <td>Hargrave</td>\n",
       "      <td>619</td>\n",
       "      <td>France</td>\n",
       "      <td>Female</td>\n",
       "      <td>42</td>\n",
       "      <td>2</td>\n",
       "      <td>0.00</td>\n",
       "      <td>1</td>\n",
       "      <td>1</td>\n",
       "      <td>1</td>\n",
       "      <td>101348.88</td>\n",
       "      <td>1</td>\n",
       "    </tr>\n",
       "    <tr>\n",
       "      <th>1</th>\n",
       "      <td>2</td>\n",
       "      <td>15647311</td>\n",
       "      <td>Hill</td>\n",
       "      <td>608</td>\n",
       "      <td>Spain</td>\n",
       "      <td>Female</td>\n",
       "      <td>41</td>\n",
       "      <td>1</td>\n",
       "      <td>83807.86</td>\n",
       "      <td>1</td>\n",
       "      <td>0</td>\n",
       "      <td>1</td>\n",
       "      <td>112542.58</td>\n",
       "      <td>0</td>\n",
       "    </tr>\n",
       "    <tr>\n",
       "      <th>2</th>\n",
       "      <td>3</td>\n",
       "      <td>15619304</td>\n",
       "      <td>Onio</td>\n",
       "      <td>502</td>\n",
       "      <td>France</td>\n",
       "      <td>Female</td>\n",
       "      <td>42</td>\n",
       "      <td>8</td>\n",
       "      <td>159660.80</td>\n",
       "      <td>3</td>\n",
       "      <td>1</td>\n",
       "      <td>0</td>\n",
       "      <td>113931.57</td>\n",
       "      <td>1</td>\n",
       "    </tr>\n",
       "    <tr>\n",
       "      <th>3</th>\n",
       "      <td>4</td>\n",
       "      <td>15701354</td>\n",
       "      <td>Boni</td>\n",
       "      <td>699</td>\n",
       "      <td>France</td>\n",
       "      <td>Female</td>\n",
       "      <td>39</td>\n",
       "      <td>1</td>\n",
       "      <td>0.00</td>\n",
       "      <td>2</td>\n",
       "      <td>0</td>\n",
       "      <td>0</td>\n",
       "      <td>93826.63</td>\n",
       "      <td>0</td>\n",
       "    </tr>\n",
       "    <tr>\n",
       "      <th>4</th>\n",
       "      <td>5</td>\n",
       "      <td>15737888</td>\n",
       "      <td>Mitchell</td>\n",
       "      <td>850</td>\n",
       "      <td>Spain</td>\n",
       "      <td>Female</td>\n",
       "      <td>43</td>\n",
       "      <td>2</td>\n",
       "      <td>125510.82</td>\n",
       "      <td>1</td>\n",
       "      <td>1</td>\n",
       "      <td>1</td>\n",
       "      <td>79084.10</td>\n",
       "      <td>0</td>\n",
       "    </tr>\n",
       "  </tbody>\n",
       "</table>\n",
       "</div>"
      ],
      "text/plain": [
       "   RowNumber  CustomerId   Surname  CreditScore Geography  Gender  Age  \\\n",
       "0          1    15634602  Hargrave          619    France  Female   42   \n",
       "1          2    15647311      Hill          608     Spain  Female   41   \n",
       "2          3    15619304      Onio          502    France  Female   42   \n",
       "3          4    15701354      Boni          699    France  Female   39   \n",
       "4          5    15737888  Mitchell          850     Spain  Female   43   \n",
       "\n",
       "   Tenure    Balance  NumOfProducts  HasCrCard  IsActiveMember  \\\n",
       "0       2       0.00              1          1               1   \n",
       "1       1   83807.86              1          0               1   \n",
       "2       8  159660.80              3          1               0   \n",
       "3       1       0.00              2          0               0   \n",
       "4       2  125510.82              1          1               1   \n",
       "\n",
       "   EstimatedSalary  Exited  \n",
       "0        101348.88       1  \n",
       "1        112542.58       0  \n",
       "2        113931.57       1  \n",
       "3         93826.63       0  \n",
       "4         79084.10       0  "
      ]
     },
     "execution_count": 1,
     "metadata": {},
     "output_type": "execute_result"
    }
   ],
   "source": [
    "import pandas as pd\n",
    "df=pd.read_csv('C:\\\\Users\\\\Asus\\\\Downloads\\\\Churn_Modelling.csv')\n",
    "df.head()"
   ]
  },
  {
   "cell_type": "code",
   "execution_count": 2,
   "id": "701aded8-4da7-48d7-a773-f9c121cdf3d8",
   "metadata": {},
   "outputs": [
    {
     "data": {
      "text/plain": [
       "RowNumber          0\n",
       "CustomerId         0\n",
       "Surname            0\n",
       "CreditScore        0\n",
       "Geography          0\n",
       "Gender             0\n",
       "Age                0\n",
       "Tenure             0\n",
       "Balance            0\n",
       "NumOfProducts      0\n",
       "HasCrCard          0\n",
       "IsActiveMember     0\n",
       "EstimatedSalary    0\n",
       "Exited             0\n",
       "dtype: int64"
      ]
     },
     "execution_count": 2,
     "metadata": {},
     "output_type": "execute_result"
    }
   ],
   "source": [
    "df.isna().sum()"
   ]
  },
  {
   "cell_type": "code",
   "execution_count": 3,
   "id": "b321e38a-d6da-46a0-b31f-a6417593e950",
   "metadata": {},
   "outputs": [],
   "source": [
    "x=df[['CreditScore','Age','Tenure','Balance','NumOfProducts','HasCrCard','IsActiveMember','EstimatedSalary']]\n",
    "y=df['Exited']"
   ]
  },
  {
   "cell_type": "code",
   "execution_count": 4,
   "id": "f4ca2a8a-1305-4664-b67e-581b78c542ed",
   "metadata": {},
   "outputs": [],
   "source": [
    "from sklearn.preprocessing import StandardScaler\n",
    "from sklearn.model_selection import train_test_split"
   ]
  },
  {
   "cell_type": "code",
   "execution_count": 5,
   "id": "86036b8f-975b-43b9-92d9-7fc1897dcd74",
   "metadata": {},
   "outputs": [],
   "source": [
    "ss=StandardScaler()\n",
    "x=ss.fit_transform(x)"
   ]
  },
  {
   "cell_type": "code",
   "execution_count": 6,
   "id": "9bae3636-74a5-440a-8679-6a52a45a01c5",
   "metadata": {},
   "outputs": [],
   "source": [
    "x_train,x_test,y_train,y_test=train_test_split(x, y, test_size=0.2, random_state=80)"
   ]
  },
  {
   "cell_type": "code",
   "execution_count": 7,
   "id": "59d87c08-3a6a-4ac1-87b8-6f01322af08e",
   "metadata": {},
   "outputs": [],
   "source": [
    "import tensorflow\n",
    "from keras.layers import Dense, BatchNormalization, Dropout\n",
    "from keras.models import Sequential\n",
    "from keras.regularizers import L2"
   ]
  },
  {
   "cell_type": "code",
   "execution_count": 8,
   "id": "32b36c99-18f5-4564-b33d-9eaf3acf0830",
   "metadata": {},
   "outputs": [],
   "source": [
    "model=Sequential()"
   ]
  },
  {
   "cell_type": "code",
   "execution_count": 9,
   "id": "ef22dcd8-c18a-4ad5-9aa4-4280cdb590e8",
   "metadata": {},
   "outputs": [
    {
     "name": "stderr",
     "output_type": "stream",
     "text": [
      "C:\\Users\\Asus\\anaconda3\\Lib\\site-packages\\keras\\src\\layers\\core\\dense.py:87: UserWarning: Do not pass an `input_shape`/`input_dim` argument to a layer. When using Sequential models, prefer using an `Input(shape)` object as the first layer in the model instead.\n",
      "  super().__init__(activity_regularizer=activity_regularizer, **kwargs)\n"
     ]
    }
   ],
   "source": [
    "model.add(Dense(64, input_dim=8, activation='relu' , kernel_regularizer=L2(l2=0.01))) \n",
    "model.add(Dropout(0.4))\n",
    "model.add(Dense(32, activation='relu' )) \n",
    "model.add(Dense(16, activation='relu'))\n",
    "model.add(Dense(8, activation='relu' )) \n",
    "model.add(Dense(4, activation='relu'))\n",
    "model.add(Dense(2, activation='relu')) \n",
    "model.add(BatchNormalization())\n",
    "model.add(Dense(1, activation='sigmoid'))"
   ]
  },
  {
   "cell_type": "code",
   "execution_count": 10,
   "id": "96dc83f7-d249-48e1-b325-a27e4d7ecd30",
   "metadata": {},
   "outputs": [],
   "source": [
    "model.compile(optimizer='adam', loss='binary_crossentropy', metrics=['accuracy'])"
   ]
  },
  {
   "cell_type": "code",
   "execution_count": 11,
   "id": "e633f23b-6ca1-4a59-880a-c52141b92229",
   "metadata": {},
   "outputs": [
    {
     "data": {
      "text/plain": [
       "(8000, 8)"
      ]
     },
     "execution_count": 11,
     "metadata": {},
     "output_type": "execute_result"
    }
   ],
   "source": [
    "x_train.shape"
   ]
  },
  {
   "cell_type": "code",
   "execution_count": 12,
   "id": "1a3d0fe0-b4d5-439c-8455-748396d3a9ab",
   "metadata": {},
   "outputs": [],
   "source": [
    "from keras.callbacks import EarlyStopping"
   ]
  },
  {
   "cell_type": "code",
   "execution_count": 13,
   "id": "9b612448-c93b-46aa-b052-ba27ea2ae65f",
   "metadata": {},
   "outputs": [
    {
     "name": "stdout",
     "output_type": "stream",
     "text": [
      "Epoch 1/40\n",
      "\u001b[1m80/80\u001b[0m \u001b[32m━━━━━━━━━━━━━━━━━━━━\u001b[0m\u001b[37m\u001b[0m \u001b[1m9s\u001b[0m 15ms/step - accuracy: 0.7399 - loss: 0.8049 - val_accuracy: 0.7995 - val_loss: 0.7348\n",
      "Epoch 2/40\n",
      "\u001b[1m80/80\u001b[0m \u001b[32m━━━━━━━━━━━━━━━━━━━━\u001b[0m\u001b[37m\u001b[0m \u001b[1m1s\u001b[0m 6ms/step - accuracy: 0.7515 - loss: 0.6963 - val_accuracy: 0.7990 - val_loss: 0.6583\n",
      "Epoch 3/40\n",
      "\u001b[1m80/80\u001b[0m \u001b[32m━━━━━━━━━━━━━━━━━━━━\u001b[0m\u001b[37m\u001b[0m \u001b[1m1s\u001b[0m 7ms/step - accuracy: 0.7805 - loss: 0.6157 - val_accuracy: 0.8030 - val_loss: 0.5922\n",
      "Epoch 4/40\n",
      "\u001b[1m80/80\u001b[0m \u001b[32m━━━━━━━━━━━━━━━━━━━━\u001b[0m\u001b[37m\u001b[0m \u001b[1m1s\u001b[0m 7ms/step - accuracy: 0.8045 - loss: 0.5479 - val_accuracy: 0.8090 - val_loss: 0.5323\n",
      "Epoch 5/40\n",
      "\u001b[1m80/80\u001b[0m \u001b[32m━━━━━━━━━━━━━━━━━━━━\u001b[0m\u001b[37m\u001b[0m \u001b[1m1s\u001b[0m 7ms/step - accuracy: 0.8223 - loss: 0.4896 - val_accuracy: 0.8435 - val_loss: 0.4681\n",
      "Epoch 6/40\n",
      "\u001b[1m80/80\u001b[0m \u001b[32m━━━━━━━━━━━━━━━━━━━━\u001b[0m\u001b[37m\u001b[0m \u001b[1m1s\u001b[0m 7ms/step - accuracy: 0.8416 - loss: 0.4426 - val_accuracy: 0.8540 - val_loss: 0.4174\n",
      "Epoch 7/40\n",
      "\u001b[1m80/80\u001b[0m \u001b[32m━━━━━━━━━━━━━━━━━━━━\u001b[0m\u001b[37m\u001b[0m \u001b[1m1s\u001b[0m 7ms/step - accuracy: 0.8385 - loss: 0.4202 - val_accuracy: 0.8565 - val_loss: 0.3929\n",
      "Epoch 8/40\n",
      "\u001b[1m80/80\u001b[0m \u001b[32m━━━━━━━━━━━━━━━━━━━━\u001b[0m\u001b[37m\u001b[0m \u001b[1m1s\u001b[0m 7ms/step - accuracy: 0.8482 - loss: 0.3992 - val_accuracy: 0.8550 - val_loss: 0.3741\n",
      "Epoch 9/40\n",
      "\u001b[1m80/80\u001b[0m \u001b[32m━━━━━━━━━━━━━━━━━━━━\u001b[0m\u001b[37m\u001b[0m \u001b[1m1s\u001b[0m 7ms/step - accuracy: 0.8484 - loss: 0.3927 - val_accuracy: 0.8575 - val_loss: 0.3712\n",
      "Epoch 10/40\n",
      "\u001b[1m80/80\u001b[0m \u001b[32m━━━━━━━━━━━━━━━━━━━━\u001b[0m\u001b[37m\u001b[0m \u001b[1m1s\u001b[0m 7ms/step - accuracy: 0.8471 - loss: 0.3891 - val_accuracy: 0.8560 - val_loss: 0.3585\n",
      "Epoch 11/40\n",
      "\u001b[1m80/80\u001b[0m \u001b[32m━━━━━━━━━━━━━━━━━━━━\u001b[0m\u001b[37m\u001b[0m \u001b[1m1s\u001b[0m 6ms/step - accuracy: 0.8515 - loss: 0.3774 - val_accuracy: 0.8605 - val_loss: 0.3537\n",
      "Epoch 12/40\n",
      "\u001b[1m80/80\u001b[0m \u001b[32m━━━━━━━━━━━━━━━━━━━━\u001b[0m\u001b[37m\u001b[0m \u001b[1m1s\u001b[0m 6ms/step - accuracy: 0.8453 - loss: 0.3739 - val_accuracy: 0.8605 - val_loss: 0.3510\n",
      "Epoch 13/40\n",
      "\u001b[1m80/80\u001b[0m \u001b[32m━━━━━━━━━━━━━━━━━━━━\u001b[0m\u001b[37m\u001b[0m \u001b[1m1s\u001b[0m 6ms/step - accuracy: 0.8465 - loss: 0.3785 - val_accuracy: 0.8585 - val_loss: 0.3525\n"
     ]
    },
    {
     "data": {
      "text/plain": [
       "<keras.src.callbacks.history.History at 0x12cc7121450>"
      ]
     },
     "execution_count": 13,
     "metadata": {},
     "output_type": "execute_result"
    }
   ],
   "source": [
    "model.fit(x_train, y_train, batch_size=100, epochs=40, validation_data=(x_test,y_test), callbacks=EarlyStopping())"
   ]
  },
  {
   "cell_type": "code",
   "execution_count": 14,
   "id": "014727e7-0799-420a-afb5-864a2471dc36",
   "metadata": {},
   "outputs": [
    {
     "data": {
      "text/plain": [
       "{'accuracy': [0.765625,\n",
       "  0.7565000057220459,\n",
       "  0.7864999771118164,\n",
       "  0.8083750009536743,\n",
       "  0.8288750052452087,\n",
       "  0.840749979019165,\n",
       "  0.8385000228881836,\n",
       "  0.8450000286102295,\n",
       "  0.8461250066757202,\n",
       "  0.847000002861023,\n",
       "  0.846750020980835,\n",
       "  0.8462499976158142,\n",
       "  0.8471249938011169],\n",
       " 'loss': [0.7783412337303162,\n",
       "  0.6756011843681335,\n",
       "  0.5959969162940979,\n",
       "  0.5336412191390991,\n",
       "  0.4763445258140564,\n",
       "  0.4381505250930786,\n",
       "  0.41763409972190857,\n",
       "  0.4026857912540436,\n",
       "  0.39383649826049805,\n",
       "  0.38756635785102844,\n",
       "  0.38185915350914,\n",
       "  0.3778018653392792,\n",
       "  0.37796977162361145],\n",
       " 'val_accuracy': [0.7994999885559082,\n",
       "  0.7990000247955322,\n",
       "  0.8029999732971191,\n",
       "  0.8090000152587891,\n",
       "  0.843500018119812,\n",
       "  0.8539999723434448,\n",
       "  0.8565000295639038,\n",
       "  0.8550000190734863,\n",
       "  0.8575000166893005,\n",
       "  0.8560000061988831,\n",
       "  0.8604999780654907,\n",
       "  0.8604999780654907,\n",
       "  0.8585000038146973],\n",
       " 'val_loss': [0.7347919344902039,\n",
       "  0.6583049893379211,\n",
       "  0.5921741127967834,\n",
       "  0.5323490500450134,\n",
       "  0.4681151509284973,\n",
       "  0.4174324572086334,\n",
       "  0.392880380153656,\n",
       "  0.37410810589790344,\n",
       "  0.3711729347705841,\n",
       "  0.35850170254707336,\n",
       "  0.35368043184280396,\n",
       "  0.3509828746318817,\n",
       "  0.3525126576423645]}"
      ]
     },
     "execution_count": 14,
     "metadata": {},
     "output_type": "execute_result"
    }
   ],
   "source": [
    "model.history.history"
   ]
  },
  {
   "cell_type": "code",
   "execution_count": 15,
   "id": "cdc6a016-6e6e-4533-8562-991c3f2cb839",
   "metadata": {},
   "outputs": [],
   "source": [
    "tr_acc=model.history.history['accuracy']\n",
    "ts_acc=model.history.history['val_accuracy']"
   ]
  },
  {
   "cell_type": "code",
   "execution_count": 16,
   "id": "098a91c7-7ede-410f-962f-10065f5e0c7a",
   "metadata": {},
   "outputs": [
    {
     "data": {
      "text/plain": [
       "(13, 13)"
      ]
     },
     "execution_count": 16,
     "metadata": {},
     "output_type": "execute_result"
    }
   ],
   "source": [
    "len(ts_acc), len(tr_acc)"
   ]
  },
  {
   "cell_type": "code",
   "execution_count": 18,
   "id": "2dd22ac6-d800-4cc7-b9fa-32ab1d076c0d",
   "metadata": {},
   "outputs": [
    {
     "data": {
      "image/png": "[encoded data removed]",
      "text/plain": [
       "<Figure size 640x480 with 1 Axes>"
      ]
     },
     "metadata": {},
     "output_type": "display_data"
    }
   ],
   "source": [
    "import matplotlib.pyplot as plt\n",
    "plt.plot([i for i in range(1,14)], tr_acc)\n",
    "plt.plot([i for i in range(1,14)], ts_acc, c='red')\n",
    "plt.show()"
   ]
  },
  {
   "cell_type": "code",
   "execution_count": 19,
   "id": "c5efc730-f6a1-4761-ba9f-85e745a796e0",
   "metadata": {},
   "outputs": [
    {
     "name": "stdout",
     "output_type": "stream",
     "text": [
      "\u001b[1m63/63\u001b[0m \u001b[32m━━━━━━━━━━━━━━━━━━━━\u001b[0m\u001b[37m\u001b[0m \u001b[1m1s\u001b[0m 4ms/step - accuracy: 0.8603 - loss: 0.3458\n",
      "Testing data loss:-  35.25126278400421 %\n",
      "Testing data accuracy:-  85.85000038146973 %\n"
     ]
    }
   ],
   "source": [
    "test_loss, test_accuracy=model.evaluate(x_test,y_test)\n",
    "print('Testing data loss:- ', test_loss*100, '%')\n",
    "print('Testing data accuracy:- ', test_accuracy*100,'%')"
   ]
  },
  {
   "cell_type": "code",
   "execution_count": 20,
   "id": "105bb41e-c638-45cb-969d-adef04d2cb1b",
   "metadata": {},
   "outputs": [
    {
     "name": "stdout",
     "output_type": "stream",
     "text": [
      "\u001b[1m63/63\u001b[0m \u001b[32m━━━━━━━━━━━━━━━━━━━━\u001b[0m\u001b[37m\u001b[0m \u001b[1m1s\u001b[0m 6ms/step\n"
     ]
    }
   ],
   "source": [
    "prd=model.predict(x_test)"
   ]
  },
  {
   "cell_type": "code",
   "execution_count": 21,
   "id": "8f3e13a8-7604-4e61-893e-1be61f31e991",
   "metadata": {},
   "outputs": [],
   "source": [
    "prd_data=[]\n",
    "for i in prd:\n",
    "    if i[0]>0.5:\n",
    "        prd_data.append(1)\n",
    "    else:\n",
    "        prd_data.append(0)"
   ]
  },
  {
   "cell_type": "code",
   "execution_count": 22,
   "id": "f536482f-653b-4233-878c-a0390ead17de",
   "metadata": {},
   "outputs": [
    {
     "name": "stdout",
     "output_type": "stream",
     "text": [
      "\u001b[1m250/250\u001b[0m \u001b[32m━━━━━━━━━━━━━━━━━━━━\u001b[0m\u001b[37m\u001b[0m \u001b[1m1s\u001b[0m 2ms/step\n"
     ]
    }
   ],
   "source": [
    "prd1=model.predict(x_train)"
   ]
  },
  {
   "cell_type": "code",
   "execution_count": 23,
   "id": "d007806b-b47b-4d0a-a5c7-7b185cf6e01d",
   "metadata": {},
   "outputs": [],
   "source": [
    "prd_data1=[]\n",
    "for i in prd1:\n",
    "    if i[0]>0.5:\n",
    "        prd_data1.append(1)\n",
    "    else:\n",
    "        prd_data1.append(0)"
   ]
  },
  {
   "cell_type": "code",
   "execution_count": 24,
   "id": "9badfaff-4bf0-4b4c-a071-6be5a9e351a5",
   "metadata": {},
   "outputs": [
    {
     "data": {
      "text/plain": [
       "array([[ 2.01214989,  1.24705333, -1.73331549, ...,  0.64609167,\n",
       "        -1.03067011, -1.1887726 ],\n",
       "       [ 0.59464162, -1.89961516,  0.68712986, ...,  0.64609167,\n",
       "         0.97024255, -1.66236187],\n",
       "       [-0.7193989 ,  3.05877155, -0.35020386, ...,  0.64609167,\n",
       "         0.97024255,  1.6949379 ],\n",
       "       ...,\n",
       "       [-0.95737474,  1.81917487, -1.04175968, ...,  0.64609167,\n",
       "         0.97024255, -0.19646806],\n",
       "       [ 1.453424  , -1.04143285, -0.35020386, ...,  0.64609167,\n",
       "        -1.03067011,  1.29278944],\n",
       "       [ 0.66706905, -0.66001848,  1.72446358, ...,  0.64609167,\n",
       "        -1.03067011, -0.68134887]])"
      ]
     },
     "execution_count": 24,
     "metadata": {},
     "output_type": "execute_result"
    }
   ],
   "source": [
    "x_test"
   ]
  },
  {
   "cell_type": "code",
   "execution_count": 25,
   "id": "2dea4597-349f-4f30-87e3-9377d25bee99",
   "metadata": {},
   "outputs": [
    {
     "data": {
      "text/plain": [
       "3637    1\n",
       "6003    0\n",
       "3396    0\n",
       "9516    0\n",
       "8357    0\n",
       "       ..\n",
       "8335    0\n",
       "229     0\n",
       "9338    0\n",
       "3466    0\n",
       "8859    0\n",
       "Name: Exited, Length: 2000, dtype: int64"
      ]
     },
     "execution_count": 25,
     "metadata": {},
     "output_type": "execute_result"
    }
   ],
   "source": [
    "y_test"
   ]
  },
  {
   "cell_type": "code",
   "execution_count": 26,
   "id": "338b853e-b50c-4190-8dde-093a270b99cf",
   "metadata": {},
   "outputs": [],
   "source": [
    "from sklearn.metrics import accuracy_score, classification_report, confusion_matrix"
   ]
  },
  {
   "cell_type": "code",
   "execution_count": 27,
   "id": "a2e1dd6b-e51e-4f34-be67-d5c66b762cc3",
   "metadata": {},
   "outputs": [
    {
     "name": "stdout",
     "output_type": "stream",
     "text": [
      "Accuracy of testing dataset:-  85.85000000000001 %\n",
      "Accuracy of training dataset:-  85.6375 %\n"
     ]
    }
   ],
   "source": [
    "print(\"Accuracy of testing dataset:- \", accuracy_score(y_test, prd_data)*100,'%')\n",
    "print(\"Accuracy of training dataset:- \", accuracy_score(y_train, prd_data1)*100,'%')"
   ]
  },
  {
   "cell_type": "code",
   "execution_count": 28,
   "id": "893396ad-8823-4432-97f2-07ecea7db2b4",
   "metadata": {},
   "outputs": [
    {
     "name": "stdout",
     "output_type": "stream",
     "text": [
      "Classification report of testing dataset:-                precision    recall  f1-score   support\n",
      "\n",
      "           0       0.87      0.96      0.92      1599\n",
      "           1       0.75      0.44      0.56       401\n",
      "\n",
      "    accuracy                           0.86      2000\n",
      "   macro avg       0.81      0.70      0.74      2000\n",
      "weighted avg       0.85      0.86      0.84      2000\n",
      "\n",
      "Classification report of training dataset:-                precision    recall  f1-score   support\n",
      "\n",
      "           0       0.87      0.96      0.91      6364\n",
      "           1       0.76      0.44      0.55      1636\n",
      "\n",
      "    accuracy                           0.86      8000\n",
      "   macro avg       0.81      0.70      0.73      8000\n",
      "weighted avg       0.85      0.86      0.84      8000\n",
      "\n"
     ]
    }
   ],
   "source": [
    "print(\"Classification report of testing dataset:- \", classification_report(y_test, prd_data))\n",
    "print(\"Classification report of training dataset:- \", classification_report(y_train, prd_data1))"
   ]
  },
  {
   "cell_type": "code",
   "execution_count": 29,
   "id": "277e4359-ec35-4846-985f-268defb51225",
   "metadata": {},
   "outputs": [
    {
     "name": "stdout",
     "output_type": "stream",
     "text": [
      "Confusion Matrix of testing dataset:-  [[1539   60]\n",
      " [ 223  178]]\n",
      "Confusion Matrix of training dataset:-  [[6138  226]\n",
      " [ 923  713]]\n"
     ]
    }
   ],
   "source": [
    "print(\"Confusion Matrix of testing dataset:- \", confusion_matrix(y_test, prd_data))\n",
    "print(\"Confusion Matrix of training dataset:- \", confusion_matrix(y_train, prd_data1))"
   ]
  }
 ],
 "metadata": {
  "kernelspec": {
   "display_name": "Python 3 (ipykernel)",
   "language": "python",
   "name": "python3"
  },
  "language_info": {
   "codemirror_mode": {
    "name": "ipython",
    "version": 3
   },
   "file_extension": ".py",
   "mimetype": "text/x-python",
   "name": "python",
   "nbconvert_exporter": "python",
   "pygments_lexer": "ipython3",
   "version": "3.11.7"
  }
 },
 "nbformat": 4,
 "nbformat_minor": 5
}
